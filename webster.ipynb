{
  "nbformat": 4,
  "nbformat_minor": 0,
  "metadata": {
    "colab": {
      "provenance": [],
      "authorship_tag": "ABX9TyMyZ/urbNVKHXDnhkLhgRj2",
      "include_colab_link": true
    },
    "kernelspec": {
      "name": "python3",
      "display_name": "Python 3"
    },
    "language_info": {
      "name": "python"
    }
  },
  "cells": [
    {
      "cell_type": "markdown",
      "metadata": {
        "id": "view-in-github",
        "colab_type": "text"
      },
      "source": [
        "<a href=\"https://colab.research.google.com/github/danirojas-nicole/randomcreationsforclasses/blob/main/webster.ipynb\" target=\"_parent\"><img src=\"https://colab.research.google.com/assets/colab-badge.svg\" alt=\"Open In Colab\"/></a>"
      ]
    },
    {
      "cell_type": "code",
      "execution_count": 1,
      "metadata": {
        "colab": {
          "base_uri": "https://localhost:8080/"
        },
        "id": "2JWnp8-pNqQD",
        "outputId": "90279e98-6c47-4508-a2bc-87acfcebbedb"
      },
      "outputs": [
        {
          "output_type": "stream",
          "name": "stdout",
          "text": [
            "Requirement already satisfied: requests in /usr/local/lib/python3.11/dist-packages (2.32.3)\n",
            "Requirement already satisfied: beautifulsoup4 in /usr/local/lib/python3.11/dist-packages (4.13.3)\n",
            "Requirement already satisfied: charset-normalizer<4,>=2 in /usr/local/lib/python3.11/dist-packages (from requests) (3.4.1)\n",
            "Requirement already satisfied: idna<4,>=2.5 in /usr/local/lib/python3.11/dist-packages (from requests) (3.10)\n",
            "Requirement already satisfied: urllib3<3,>=1.21.1 in /usr/local/lib/python3.11/dist-packages (from requests) (2.3.0)\n",
            "Requirement already satisfied: certifi>=2017.4.17 in /usr/local/lib/python3.11/dist-packages (from requests) (2025.1.31)\n",
            "Requirement already satisfied: soupsieve>1.2 in /usr/local/lib/python3.11/dist-packages (from beautifulsoup4) (2.6)\n",
            "Requirement already satisfied: typing-extensions>=4.0.0 in /usr/local/lib/python3.11/dist-packages (from beautifulsoup4) (4.12.2)\n"
          ]
        }
      ],
      "source": [
        "!pip install requests beautifulsoup4"
      ]
    },
    {
      "cell_type": "code",
      "source": [
        "import requests\n",
        "from bs4 import BeautifulSoup"
      ],
      "metadata": {
        "id": "o2DSg-l8OEY0"
      },
      "execution_count": 2,
      "outputs": []
    },
    {
      "cell_type": "code",
      "source": [
        "url = \"https://webster.house.gov/\"\n",
        "response = requests.get(url)"
      ],
      "metadata": {
        "id": "M1_wTzU1OJS_"
      },
      "execution_count": 3,
      "outputs": []
    },
    {
      "source": [
        "soup = BeautifulSoup(response.content, \"html.parser\")"
      ],
      "cell_type": "code",
      "metadata": {
        "id": "xZmbaQmHOUxE"
      },
      "execution_count": 4,
      "outputs": []
    },
    {
      "source": [
        "# Example: Extract all the links\n",
        "links = [a[\"href\"] for a in soup.find_all(\"a\", href=True)]\n",
        "\n",
        "# Example: Extract all the text within a specific tag\n",
        "paragraphs = [p.text for p in soup.find_all(\"p\")]"
      ],
      "cell_type": "code",
      "metadata": {
        "id": "QJgMe-atOYVo"
      },
      "execution_count": 10,
      "outputs": []
    },
    {
      "source": [
        "for link in links:\n",
        "    print(link)"
      ],
      "cell_type": "code",
      "metadata": {
        "colab": {
          "base_uri": "https://localhost:8080/"
        },
        "id": "EeAR6Ih5Ok_A",
        "outputId": "9fad5038-b47a-4d1e-b353-668686495ffe"
      },
      "execution_count": 11,
      "outputs": [
        {
          "output_type": "stream",
          "name": "stdout",
          "text": [
            "#main-content\n",
            "/\n",
            "/news\n",
            "/press-releases\n",
            "/videos-statements\n",
            "/about-dan\n",
            "/biography\n",
            "/committee-assignments\n",
            "/constituent-services\n",
            "/more-services\n",
            "/visiting-dc\n",
            "/flag-requests\n",
            "/casework\n",
            "/veterans\n",
            "/passport-assistance\n",
            "/disaster-preparedness\n",
            "/small-business-resources\n",
            "/socialsecurity-scam\n",
            "/consumer-resources\n",
            "/2025-presidential-inauguration-tickets\n",
            "/legislative-initiatives\n",
            "/border-security\n",
            "/sponsored-legislation\n",
            "/legislative-process\n",
            "/voting-record\n",
            "/students\n",
            "/internships\n",
            "/service-academy-nominations\n",
            "/congressional-art-competition\n",
            "/appchallenge\n",
            "/volunteer-service-awards\n",
            "/contact\n",
            "/email-me\n",
            "/dc-tours\n",
            "/newsletter-sign-up\n",
            "/meetings\n",
            "/office-information\n",
            "/unsubscribe\n",
            "/search\n",
            "https://www.facebook.com/RepWebster/\n",
            "https://twitter.com/RepWebster\n",
            "https://www.youtube.com/channel/UCCoX4VdU7U11eGEA0lbRtLw\n",
            "/contact\n",
            "/biography\n",
            "/email-me\n",
            "/more-services\n",
            "/meetings\n",
            "/visiting-dc\n",
            "/flag-requests\n",
            "/internships\n",
            "/government-spending\n",
            "/border-security-national-defense\n",
            "/life-liberty-freedom\n",
            "/transportation-infrastructure\n",
            "/veterans-issue\n",
            "/energy-environment\n",
            "/social-security-medicare\n",
            "/disaster-preparedness-issue\n",
            "/press-releases?id=F774428E-61E8-4280-8333-55F582C3551A\n",
            "/press-releases?id=F774428E-61E8-4280-8333-55F582C3551A\n",
            "/press-releases?id=0C9808E2-3D3C-4154-BDF7-D926EC03D104\n",
            "/press-releases?id=0C9808E2-3D3C-4154-BDF7-D926EC03D104\n",
            "/press-releases?id=65D5C458-5022-4B84-8BB0-2299CF5CD507\n",
            "/press-releases?id=65D5C458-5022-4B84-8BB0-2299CF5CD507\n",
            "/press-releases?id=9E44F31F-F01C-4352-A2CF-F935437F5F65\n",
            "/press-releases?id=9E44F31F-F01C-4352-A2CF-F935437F5F65\n",
            "/home\n",
            "/privacy-policy\n",
            "https://house.gov\n",
            "https://www.facebook.com/RepWebster/\n",
            "https://twitter.com/RepWebster\n",
            "https://www.youtube.com/channel/UCCoX4VdU7U11eGEA0lbRtLw\n"
          ]
        }
      ]
    }
  ]
}